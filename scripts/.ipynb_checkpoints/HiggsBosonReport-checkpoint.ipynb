{
 "cells": [
  {
   "cell_type": "markdown",
   "metadata": {},
   "source": [
    "### Machine Learning Project CS-433"
   ]
  },
  {
   "cell_type": "code",
   "execution_count": 2,
   "metadata": {},
   "outputs": [],
   "source": [
    "# Useful starting lines\n",
    "%matplotlib inline\n",
    "%load_ext autoreload\n",
    "%autoreload 2"
   ]
  },
  {
   "cell_type": "markdown",
   "metadata": {},
   "source": [
    "#### Load the training data into feature matrix, class labels, and event ids:"
   ]
  },
  {
   "cell_type": "code",
   "execution_count": 3,
   "metadata": {},
   "outputs": [],
   "source": [
    "#own libs imported\n",
    "import data_processor as dp\n",
    "from implementations import *\n",
    "from plot import *\n",
    "from proj1_helpers import *\n",
    "\n",
    "#loading data\n",
    "DATA_TRAIN_PATH = '../data/train.csv' # TODO: download train data and supply path here \n",
    "y, tX, ids = load_csv_data(DATA_TRAIN_PATH)\n",
    "\n",
    "#External libs\n",
    "import numpy as np\n",
    "import matplotlib.pyplot as plt\n",
    "import pickle #(not for vision but to save the weights, we commented it out)\n",
    "import pandas as pd #(only used for data exploration)"
   ]
  },
  {
   "cell_type": "markdown",
   "metadata": {},
   "source": [
    "##### Let's start with some data exploration"
   ]
  },
  {
   "cell_type": "markdown",
   "metadata": {},
   "source": [
    "Let's statistically find the distribution of these points from the dataset."
   ]
  },
  {
   "cell_type": "code",
   "execution_count": 4,
   "metadata": {},
   "outputs": [
    {
     "data": {
      "text/html": [
       "<div>\n",
       "<style scoped>\n",
       "    .dataframe tbody tr th:only-of-type {\n",
       "        vertical-align: middle;\n",
       "    }\n",
       "\n",
       "    .dataframe tbody tr th {\n",
       "        vertical-align: top;\n",
       "    }\n",
       "\n",
       "    .dataframe thead th {\n",
       "        text-align: right;\n",
       "    }\n",
       "</style>\n",
       "<table border=\"1\" class=\"dataframe\">\n",
       "  <thead>\n",
       "    <tr style=\"text-align: right;\">\n",
       "      <th></th>\n",
       "      <th>Id</th>\n",
       "      <th>DER_mass_MMC</th>\n",
       "      <th>DER_mass_transverse_met_lep</th>\n",
       "      <th>DER_mass_vis</th>\n",
       "      <th>DER_pt_h</th>\n",
       "      <th>DER_deltaeta_jet_jet</th>\n",
       "      <th>DER_mass_jet_jet</th>\n",
       "      <th>DER_prodeta_jet_jet</th>\n",
       "      <th>DER_deltar_tau_lep</th>\n",
       "      <th>DER_pt_tot</th>\n",
       "      <th>...</th>\n",
       "      <th>PRI_met_phi</th>\n",
       "      <th>PRI_met_sumet</th>\n",
       "      <th>PRI_jet_num</th>\n",
       "      <th>PRI_jet_leading_pt</th>\n",
       "      <th>PRI_jet_leading_eta</th>\n",
       "      <th>PRI_jet_leading_phi</th>\n",
       "      <th>PRI_jet_subleading_pt</th>\n",
       "      <th>PRI_jet_subleading_eta</th>\n",
       "      <th>PRI_jet_subleading_phi</th>\n",
       "      <th>PRI_jet_all_pt</th>\n",
       "    </tr>\n",
       "  </thead>\n",
       "  <tbody>\n",
       "    <tr>\n",
       "      <th>count</th>\n",
       "      <td>250000.000000</td>\n",
       "      <td>250000.000000</td>\n",
       "      <td>250000.000000</td>\n",
       "      <td>250000.000000</td>\n",
       "      <td>250000.000000</td>\n",
       "      <td>250000.000000</td>\n",
       "      <td>250000.000000</td>\n",
       "      <td>250000.000000</td>\n",
       "      <td>250000.000000</td>\n",
       "      <td>250000.000000</td>\n",
       "      <td>...</td>\n",
       "      <td>250000.000000</td>\n",
       "      <td>250000.000000</td>\n",
       "      <td>250000.000000</td>\n",
       "      <td>250000.000000</td>\n",
       "      <td>250000.000000</td>\n",
       "      <td>250000.000000</td>\n",
       "      <td>250000.000000</td>\n",
       "      <td>250000.000000</td>\n",
       "      <td>250000.000000</td>\n",
       "      <td>250000.000000</td>\n",
       "    </tr>\n",
       "    <tr>\n",
       "      <th>mean</th>\n",
       "      <td>224999.500000</td>\n",
       "      <td>-49.023079</td>\n",
       "      <td>49.239819</td>\n",
       "      <td>81.181982</td>\n",
       "      <td>57.895962</td>\n",
       "      <td>-708.420675</td>\n",
       "      <td>-601.237051</td>\n",
       "      <td>-709.356603</td>\n",
       "      <td>2.373100</td>\n",
       "      <td>18.917332</td>\n",
       "      <td>...</td>\n",
       "      <td>-0.010119</td>\n",
       "      <td>209.797178</td>\n",
       "      <td>0.979176</td>\n",
       "      <td>-348.329567</td>\n",
       "      <td>-399.254314</td>\n",
       "      <td>-399.259788</td>\n",
       "      <td>-692.381204</td>\n",
       "      <td>-709.121609</td>\n",
       "      <td>-709.118631</td>\n",
       "      <td>73.064591</td>\n",
       "    </tr>\n",
       "    <tr>\n",
       "      <th>std</th>\n",
       "      <td>72168.927986</td>\n",
       "      <td>406.345647</td>\n",
       "      <td>35.344886</td>\n",
       "      <td>40.828691</td>\n",
       "      <td>63.655682</td>\n",
       "      <td>454.480565</td>\n",
       "      <td>657.972302</td>\n",
       "      <td>453.019877</td>\n",
       "      <td>0.782911</td>\n",
       "      <td>22.273494</td>\n",
       "      <td>...</td>\n",
       "      <td>1.812223</td>\n",
       "      <td>126.499506</td>\n",
       "      <td>0.977426</td>\n",
       "      <td>532.962789</td>\n",
       "      <td>489.338286</td>\n",
       "      <td>489.333883</td>\n",
       "      <td>479.875496</td>\n",
       "      <td>453.384624</td>\n",
       "      <td>453.389017</td>\n",
       "      <td>98.015662</td>\n",
       "    </tr>\n",
       "    <tr>\n",
       "      <th>min</th>\n",
       "      <td>100000.000000</td>\n",
       "      <td>-999.000000</td>\n",
       "      <td>0.000000</td>\n",
       "      <td>6.329000</td>\n",
       "      <td>0.000000</td>\n",
       "      <td>-999.000000</td>\n",
       "      <td>-999.000000</td>\n",
       "      <td>-999.000000</td>\n",
       "      <td>0.208000</td>\n",
       "      <td>0.000000</td>\n",
       "      <td>...</td>\n",
       "      <td>-3.142000</td>\n",
       "      <td>13.678000</td>\n",
       "      <td>0.000000</td>\n",
       "      <td>-999.000000</td>\n",
       "      <td>-999.000000</td>\n",
       "      <td>-999.000000</td>\n",
       "      <td>-999.000000</td>\n",
       "      <td>-999.000000</td>\n",
       "      <td>-999.000000</td>\n",
       "      <td>0.000000</td>\n",
       "    </tr>\n",
       "    <tr>\n",
       "      <th>25%</th>\n",
       "      <td>162499.750000</td>\n",
       "      <td>78.100750</td>\n",
       "      <td>19.241000</td>\n",
       "      <td>59.388750</td>\n",
       "      <td>14.068750</td>\n",
       "      <td>-999.000000</td>\n",
       "      <td>-999.000000</td>\n",
       "      <td>-999.000000</td>\n",
       "      <td>1.810000</td>\n",
       "      <td>2.841000</td>\n",
       "      <td>...</td>\n",
       "      <td>-1.575000</td>\n",
       "      <td>123.017500</td>\n",
       "      <td>0.000000</td>\n",
       "      <td>-999.000000</td>\n",
       "      <td>-999.000000</td>\n",
       "      <td>-999.000000</td>\n",
       "      <td>-999.000000</td>\n",
       "      <td>-999.000000</td>\n",
       "      <td>-999.000000</td>\n",
       "      <td>0.000000</td>\n",
       "    </tr>\n",
       "    <tr>\n",
       "      <th>50%</th>\n",
       "      <td>224999.500000</td>\n",
       "      <td>105.012000</td>\n",
       "      <td>46.524000</td>\n",
       "      <td>73.752000</td>\n",
       "      <td>38.467500</td>\n",
       "      <td>-999.000000</td>\n",
       "      <td>-999.000000</td>\n",
       "      <td>-999.000000</td>\n",
       "      <td>2.491500</td>\n",
       "      <td>12.315500</td>\n",
       "      <td>...</td>\n",
       "      <td>-0.024000</td>\n",
       "      <td>179.739000</td>\n",
       "      <td>1.000000</td>\n",
       "      <td>38.960000</td>\n",
       "      <td>-1.872000</td>\n",
       "      <td>-2.093000</td>\n",
       "      <td>-999.000000</td>\n",
       "      <td>-999.000000</td>\n",
       "      <td>-999.000000</td>\n",
       "      <td>40.512500</td>\n",
       "    </tr>\n",
       "    <tr>\n",
       "      <th>75%</th>\n",
       "      <td>287499.250000</td>\n",
       "      <td>130.606250</td>\n",
       "      <td>73.598000</td>\n",
       "      <td>92.259000</td>\n",
       "      <td>79.169000</td>\n",
       "      <td>0.490000</td>\n",
       "      <td>83.446000</td>\n",
       "      <td>-4.593000</td>\n",
       "      <td>2.961000</td>\n",
       "      <td>27.591000</td>\n",
       "      <td>...</td>\n",
       "      <td>1.561000</td>\n",
       "      <td>263.379250</td>\n",
       "      <td>2.000000</td>\n",
       "      <td>75.349000</td>\n",
       "      <td>0.433000</td>\n",
       "      <td>0.503000</td>\n",
       "      <td>33.703000</td>\n",
       "      <td>-2.457000</td>\n",
       "      <td>-2.275000</td>\n",
       "      <td>109.933750</td>\n",
       "    </tr>\n",
       "    <tr>\n",
       "      <th>max</th>\n",
       "      <td>349999.000000</td>\n",
       "      <td>1192.026000</td>\n",
       "      <td>690.075000</td>\n",
       "      <td>1349.351000</td>\n",
       "      <td>2834.999000</td>\n",
       "      <td>8.503000</td>\n",
       "      <td>4974.979000</td>\n",
       "      <td>16.690000</td>\n",
       "      <td>5.684000</td>\n",
       "      <td>2834.999000</td>\n",
       "      <td>...</td>\n",
       "      <td>3.142000</td>\n",
       "      <td>2003.976000</td>\n",
       "      <td>3.000000</td>\n",
       "      <td>1120.573000</td>\n",
       "      <td>4.499000</td>\n",
       "      <td>3.141000</td>\n",
       "      <td>721.456000</td>\n",
       "      <td>4.500000</td>\n",
       "      <td>3.142000</td>\n",
       "      <td>1633.433000</td>\n",
       "    </tr>\n",
       "  </tbody>\n",
       "</table>\n",
       "<p>8 rows × 31 columns</p>\n",
       "</div>"
      ],
      "text/plain": [
       "                  Id   DER_mass_MMC  DER_mass_transverse_met_lep  \\\n",
       "count  250000.000000  250000.000000                250000.000000   \n",
       "mean   224999.500000     -49.023079                    49.239819   \n",
       "std     72168.927986     406.345647                    35.344886   \n",
       "min    100000.000000    -999.000000                     0.000000   \n",
       "25%    162499.750000      78.100750                    19.241000   \n",
       "50%    224999.500000     105.012000                    46.524000   \n",
       "75%    287499.250000     130.606250                    73.598000   \n",
       "max    349999.000000    1192.026000                   690.075000   \n",
       "\n",
       "        DER_mass_vis       DER_pt_h  DER_deltaeta_jet_jet  DER_mass_jet_jet  \\\n",
       "count  250000.000000  250000.000000         250000.000000     250000.000000   \n",
       "mean       81.181982      57.895962           -708.420675       -601.237051   \n",
       "std        40.828691      63.655682            454.480565        657.972302   \n",
       "min         6.329000       0.000000           -999.000000       -999.000000   \n",
       "25%        59.388750      14.068750           -999.000000       -999.000000   \n",
       "50%        73.752000      38.467500           -999.000000       -999.000000   \n",
       "75%        92.259000      79.169000              0.490000         83.446000   \n",
       "max      1349.351000    2834.999000              8.503000       4974.979000   \n",
       "\n",
       "       DER_prodeta_jet_jet  DER_deltar_tau_lep     DER_pt_tot  ...  \\\n",
       "count        250000.000000       250000.000000  250000.000000  ...   \n",
       "mean           -709.356603            2.373100      18.917332  ...   \n",
       "std             453.019877            0.782911      22.273494  ...   \n",
       "min            -999.000000            0.208000       0.000000  ...   \n",
       "25%            -999.000000            1.810000       2.841000  ...   \n",
       "50%            -999.000000            2.491500      12.315500  ...   \n",
       "75%              -4.593000            2.961000      27.591000  ...   \n",
       "max              16.690000            5.684000    2834.999000  ...   \n",
       "\n",
       "         PRI_met_phi  PRI_met_sumet    PRI_jet_num  PRI_jet_leading_pt  \\\n",
       "count  250000.000000  250000.000000  250000.000000       250000.000000   \n",
       "mean       -0.010119     209.797178       0.979176         -348.329567   \n",
       "std         1.812223     126.499506       0.977426          532.962789   \n",
       "min        -3.142000      13.678000       0.000000         -999.000000   \n",
       "25%        -1.575000     123.017500       0.000000         -999.000000   \n",
       "50%        -0.024000     179.739000       1.000000           38.960000   \n",
       "75%         1.561000     263.379250       2.000000           75.349000   \n",
       "max         3.142000    2003.976000       3.000000         1120.573000   \n",
       "\n",
       "       PRI_jet_leading_eta  PRI_jet_leading_phi  PRI_jet_subleading_pt  \\\n",
       "count        250000.000000        250000.000000          250000.000000   \n",
       "mean           -399.254314          -399.259788            -692.381204   \n",
       "std             489.338286           489.333883             479.875496   \n",
       "min            -999.000000          -999.000000            -999.000000   \n",
       "25%            -999.000000          -999.000000            -999.000000   \n",
       "50%              -1.872000            -2.093000            -999.000000   \n",
       "75%               0.433000             0.503000              33.703000   \n",
       "max               4.499000             3.141000             721.456000   \n",
       "\n",
       "       PRI_jet_subleading_eta  PRI_jet_subleading_phi  PRI_jet_all_pt  \n",
       "count           250000.000000           250000.000000   250000.000000  \n",
       "mean              -709.121609             -709.118631       73.064591  \n",
       "std                453.384624              453.389017       98.015662  \n",
       "min               -999.000000             -999.000000        0.000000  \n",
       "25%               -999.000000             -999.000000        0.000000  \n",
       "50%               -999.000000             -999.000000       40.512500  \n",
       "75%                 -2.457000               -2.275000      109.933750  \n",
       "max                  4.500000                3.142000     1633.433000  \n",
       "\n",
       "[8 rows x 31 columns]"
      ]
     },
     "execution_count": 4,
     "metadata": {},
     "output_type": "execute_result"
    }
   ],
   "source": [
    "#loadng and giving the statistics for the train dataset\n",
    "df = pd.read_csv('../data/train.csv')\n",
    "df.describe()"
   ]
  },
  {
   "cell_type": "markdown",
   "metadata": {},
   "source": [
    "#### Data Preprocessing 1 Basic"
   ]
  },
  {
   "cell_type": "markdown",
   "metadata": {},
   "source": [
    "We have decided that a simple split was enough to have a representative validation set. Empirically we noticed that the validation accuracy was closely matching the online submission accuracy."
   ]
  },
  {
   "cell_type": "code",
   "execution_count": 5,
   "metadata": {},
   "outputs": [],
   "source": [
    "ratio = 0.9 #ratio for data splitting\n",
    "N = len(y)\n",
    "\n",
    "#Splitting data \n",
    "np.random.seed(57)\n",
    "ind = np.arange(N)\n",
    "np.random.shuffle(ind)\n",
    "ind_train = ind[:int(N*ratio)]\n",
    "ind_test = ind[int(N*ratio):]\n",
    "\n",
    "tX_train,y_train = tX[ind_train], y[ind_train]\n",
    "tX_val,y_val = tX[ind_test],y[ind_test]"
   ]
  },
  {
   "cell_type": "code",
   "execution_count": 6,
   "metadata": {
    "scrolled": true
   },
   "outputs": [
    {
     "name": "stdout",
     "output_type": "stream",
     "text": [
      "(225000, 30) (25000, 30)\n"
     ]
    }
   ],
   "source": [
    "#basic process \n",
    "tX_train, filler = dp.fill_nan(tX_train, nan_value=-999, method='mean')\n",
    "tX_val, _ = dp.fill_nan(tX_val, nan_value=-999, method='use_filler', filler=filler)\n",
    "\n",
    "#checking correct shape\n",
    "print(tX_train.shape,tX_val.shape)"
   ]
  },
  {
   "cell_type": "markdown",
   "metadata": {},
   "source": [
    "### Methods on only filled NaN processed Data"
   ]
  },
  {
   "cell_type": "markdown",
   "metadata": {},
   "source": [
    "#### Least Squares"
   ]
  },
  {
   "cell_type": "code",
   "execution_count": 7,
   "metadata": {},
   "outputs": [
    {
     "name": "stdout",
     "output_type": "stream",
     "text": [
      "Accuracy on training set 0.7409822222222222\n",
      "Accuracy on validation set 0.73632\n"
     ]
    }
   ],
   "source": [
    "#training\n",
    "w, mse = least_squares(y_train, tX_train)\n",
    "\n",
    "#on training set\n",
    "y_pred = predict_labels(w, tX_train)\n",
    "print('Accuracy on training set '+str(np.mean(y_train==y_pred)))\n",
    "\n",
    "#on validation set\n",
    "y_pred = predict_labels(w, tX_val)\n",
    "print('Accuracy on validation set ' +str(np.mean(y_val==y_pred)))"
   ]
  },
  {
   "cell_type": "markdown",
   "metadata": {},
   "source": [
    "#### Ridge Regression"
   ]
  },
  {
   "cell_type": "code",
   "execution_count": 8,
   "metadata": {
    "scrolled": false
   },
   "outputs": [
    {
     "name": "stdout",
     "output_type": "stream",
     "text": [
      "0.0001: MSE_TRAIN=0.3434228846308735 TRAIN=0.7409822222222222 VAL=0.73632\n",
      "0.001: MSE_TRAIN=0.3434228894982318 TRAIN=0.7409777777777777 VAL=0.73628\n",
      "0.01: MSE_TRAIN=0.34342310287626227 TRAIN=0.7409288888888889 VAL=0.73616\n",
      "0.1: MSE_TRAIN=0.3434240379656018 TRAIN=0.7409644444444444 VAL=0.7362\n",
      "1: MSE_TRAIN=0.34342440798504814 TRAIN=0.74096 VAL=0.73616\n",
      "10: MSE_TRAIN=0.3434244615512595 TRAIN=0.74096 VAL=0.7362\n",
      "100: MSE_TRAIN=0.3434251555221744 TRAIN=0.7408666666666667 VAL=0.73648\n",
      "1000: MSE_TRAIN=0.3434805744039226 TRAIN=0.7406044444444444 VAL=0.7356\n",
      "10000: MSE_TRAIN=0.3451455843284317 TRAIN=0.7376044444444444 VAL=0.73344\n"
     ]
    }
   ],
   "source": [
    "#Trying out different lambda for ridge\n",
    "for l in [10**i for i in range(-4,5)]:\n",
    "    w, mse = ridge_regression(y_train, tX_train, l)\n",
    "    y_pred_train = predict_labels(w, tX_train)\n",
    "    y_pred_val = predict_labels(w, tX_val)\n",
    "    print(str(l)+\": MSE_TRAIN=\"+str(mse)+ \" TRAIN=\"+str(np.mean(y_train==y_pred_train))+\" VAL=\"+str(np.mean(y_val==y_pred_val)))"
   ]
  },
  {
   "cell_type": "markdown",
   "metadata": {},
   "source": [
    "#### Least Squares GD"
   ]
  },
  {
   "cell_type": "code",
   "execution_count": 9,
   "metadata": {},
   "outputs": [
    {
     "name": "stdout",
     "output_type": "stream",
     "text": [
      "Accuracy on training set: 0.6809333333333333\n",
      "Accuracy on validation set: 0.678\n"
     ]
    }
   ],
   "source": [
    "#Initialization\n",
    "initial_w = np.zeros(tX.shape[1])\n",
    "max_iters = 100\n",
    "gamma = 3e-6 \n",
    "\n",
    "#training\n",
    "w, mse = least_squares_GD(y_train, tX_train, initial_w, max_iters, gamma)\n",
    "\n",
    "#Training set\n",
    "y_pred = predict_labels(w, tX_train)\n",
    "print('Accuracy on training set: '+str(np.mean(y_train.reshape(-1,1)==y_pred)))\n",
    "\n",
    "#Validation set\n",
    "y_pred = predict_labels(w, tX_val)\n",
    "print('Accuracy on validation set: '+str(np.mean(y_val.reshape(-1,1)==y_pred)))"
   ]
  },
  {
   "cell_type": "markdown",
   "metadata": {},
   "source": [
    "#### Least Squares SGD (/mini-batch)"
   ]
  },
  {
   "cell_type": "code",
   "execution_count": 10,
   "metadata": {
    "scrolled": true
   },
   "outputs": [
    {
     "name": "stdout",
     "output_type": "stream",
     "text": [
      "Accuracy on training set: 0.6159422222222222\n",
      "Accuracy on validation set: 0.61368\n"
     ]
    }
   ],
   "source": [
    "#Initialization\n",
    "initial_w = np.zeros(tX.shape[1])#np.random.normal(loc=0, scale=1, size=(tX.shape[1],1))\n",
    "max_iters = 100\n",
    "gamma = 3e-7\n",
    "\n",
    "#training\n",
    "w, mse = least_squares_SGD(y_train, tX_train, initial_w, max_iters, gamma, batch_size=1)\n",
    "\n",
    "#Training set\n",
    "y_pred = predict_labels(w, tX_train)\n",
    "print('Accuracy on training set: '+str(np.mean(y_train.reshape(-1,1)==y_pred)))\n",
    "\n",
    "#Validation set\n",
    "y_pred = predict_labels(w, tX_val)\n",
    "print('Accuracy on validation set: '+str(np.mean(y_val.reshape(-1,1)==y_pred)))"
   ]
  },
  {
   "cell_type": "markdown",
   "metadata": {},
   "source": [
    "#### Logistic Regression"
   ]
  },
  {
   "cell_type": "code",
   "execution_count": 11,
   "metadata": {},
   "outputs": [
    {
     "name": "stdout",
     "output_type": "stream",
     "text": [
      "Accuracy on training set: 0.6745377777777778\n",
      "Accuracy on validation set: 0.67116\n"
     ]
    }
   ],
   "source": [
    "#Initialization\n",
    "initial_w = np.zeros(tX.shape[1])\n",
    "max_iters = 100\n",
    "gamma = 1.5e-7\n",
    "\n",
    "# Matching for the y to train on a weight that fits on 0 , 1 prediction (without sigmoid)\n",
    "y_train_lr = y_train>0\n",
    "\n",
    "#Training\n",
    "w, mse = logistic_regression(y_train_lr, tX_train, initial_w, max_iters, gamma, batch_size=64)\n",
    "\n",
    "#Training set\n",
    "y_pred = predict_labels(w, tX_train)\n",
    "print('Accuracy on training set: '+str(np.mean(y_train.reshape(-1,1)==y_pred)))\n",
    "\n",
    "#Validation set\n",
    "y_pred = predict_labels(w, tX_val)\n",
    "print('Accuracy on validation set: '+str(np.mean(y_val.reshape(-1,1)==y_pred)))"
   ]
  },
  {
   "cell_type": "markdown",
   "metadata": {},
   "source": [
    "#### Logistic Regression Regularized"
   ]
  },
  {
   "cell_type": "code",
   "execution_count": 12,
   "metadata": {},
   "outputs": [
    {
     "name": "stdout",
     "output_type": "stream",
     "text": [
      "Accuracy on training set: 0.6810666666666667\n",
      "Accuracy on validation set: 0.67832\n"
     ]
    }
   ],
   "source": [
    "#Initialization\n",
    "initial_w = np.zeros(tX.shape[1])\n",
    "max_iters = 100\n",
    "gamma = 2e-7\n",
    "lambda_ = 1 #we can change the lambda arbitrarly\n",
    "\n",
    "# Matching for the y to train on a weight that fits on 0 , 1 prediction (without sigmoid)\n",
    "y_train_lr = y_train>0\n",
    "\n",
    "#Training\n",
    "w, mse = reg_logistic_regression(y_train_lr, tX_train, lambda_, initial_w, max_iters, gamma, batch_size=64)\n",
    "\n",
    "#Training set\n",
    "y_pred = predict_labels(w, tX_train)\n",
    "print('Accuracy on training set: '+str(np.mean(y_train.reshape(-1,1)==y_pred)))\n",
    "\n",
    "#Validation set\n",
    "y_pred = predict_labels(w, tX_val)\n",
    "print('Accuracy on validation set: '+str(np.mean(y_val.reshape(-1,1)==y_pred)))"
   ]
  },
  {
   "cell_type": "markdown",
   "metadata": {},
   "source": [
    "### More data processing "
   ]
  },
  {
   "cell_type": "markdown",
   "metadata": {},
   "source": [
    "We can begin with bounding the outliers."
   ]
  },
  {
   "cell_type": "code",
   "execution_count": 13,
   "metadata": {},
   "outputs": [
    {
     "data": {
      "text/plain": [
       "((225000, 30), (25000, 30))"
      ]
     },
     "execution_count": 13,
     "metadata": {},
     "output_type": "execute_result"
    }
   ],
   "source": [
    "#Remove outliers is basically matching \n",
    "tX_train_new, outlier_thresh = dp.remove_outliers(tX_train, conf_int=0.05)\n",
    "\n",
    "# We use the same outlier threshold\n",
    "tX_val_new, _ = dp.remove_outliers(tX_val, outlier_thresh=outlier_thresh)\n",
    "\n",
    "#again checking the shapes\n",
    "tX_train_new.shape, tX_val_new.shape"
   ]
  },
  {
   "cell_type": "markdown",
   "metadata": {},
   "source": [
    "#### Testing with Ridge Regression with outliers"
   ]
  },
  {
   "cell_type": "code",
   "execution_count": 14,
   "metadata": {},
   "outputs": [
    {
     "name": "stdout",
     "output_type": "stream",
     "text": [
      "Accuracy on training set0.68748\n",
      "Accuracy on validation set0.68492\n"
     ]
    }
   ],
   "source": [
    "#Training\n",
    "w, mse = ridge_regression(y_train, tX_train_new, lambda_=1)\n",
    "\n",
    "# Training set\n",
    "y_pred = predict_labels(w, tX_train_new)\n",
    "print(\"Accuracy on training set\"+str(np.mean(y_train==y_pred)))\n",
    "\n",
    "# Validation set\n",
    "y_pred = predict_labels(w, tX_val_new)\n",
    "print(\"Accuracy on validation set\"+str(np.mean(y_val==y_pred)))"
   ]
  },
  {
   "cell_type": "markdown",
   "metadata": {},
   "source": [
    "Clearly removing outliers isn't doing a better job on the data (when comparing to the non extra processed accuracy). So we won't be doing it that."
   ]
  },
  {
   "cell_type": "markdown",
   "metadata": {},
   "source": [
    "#### We try to normalize the data, hoping that effect of certain features doesn't dull others'"
   ]
  },
  {
   "cell_type": "code",
   "execution_count": 15,
   "metadata": {},
   "outputs": [],
   "source": [
    "#Standardizing process\n",
    "tX_train_new, norm_stats = dp.standardize(tX_train)\n",
    "tX_val_new, _ = dp.standardize(tX_val, norm_stats=norm_stats) # We use the same outlier threshold"
   ]
  },
  {
   "cell_type": "markdown",
   "metadata": {},
   "source": [
    "#### We add polynomial features to help with training"
   ]
  },
  {
   "cell_type": "code",
   "execution_count": 16,
   "metadata": {},
   "outputs": [
    {
     "data": {
      "text/plain": [
       "((225000, 451), (25000, 451))"
      ]
     },
     "execution_count": 16,
     "metadata": {},
     "output_type": "execute_result"
    }
   ],
   "source": [
    "#Feature augmentation with polynomial\n",
    "tX_train_aug_poly, tX_val_aug_poly = dp.poly_features(tX_train_new,15), dp.poly_features(tX_val_new,15)\n",
    "\n",
    "#Coupled with standardization because we noticed that the polynomials value could grow too large\n",
    "tX_train_aug_poly, stats2 = dp.standardize(tX_train_aug_poly)\n",
    "tX_val_aug_poly, _ = dp.standardize(tX_val_aug_poly, norm_stats=stats2)\n",
    "\n",
    "#Adding the ones to complete the polynomial augmentation\n",
    "tX_train_poly_std, tX_val_poly_std = dp.add_ones(tX_train_aug_poly), dp.add_ones(tX_val_aug_poly)\n",
    "tX_train_poly_std, tX_val_poly_std = dp.add_ones(tX_train_aug_poly), dp.add_ones(tX_val_aug_poly)\n",
    "\n",
    "tX_train_poly_std.shape, tX_val_poly_std.shape"
   ]
  },
  {
   "cell_type": "markdown",
   "metadata": {},
   "source": [
    "#### Ridge Regression with polynomials, standardizing the data"
   ]
  },
  {
   "cell_type": "code",
   "execution_count": 18,
   "metadata": {},
   "outputs": [
    {
     "name": "stdout",
     "output_type": "stream",
     "text": [
      "With Lambda=1e-10\n",
      "Accuracy on training set: 0.8021377777777777\n",
      "Accuracy on validation set: 0.79676\n",
      "With Lambda=1e-09\n",
      "Accuracy on training set: 0.7052311111111111\n",
      "Accuracy on validation set: 0.70808\n",
      "With Lambda=1e-08\n",
      "Accuracy on training set: 0.8198488888888888\n",
      "Accuracy on validation set: 0.81672\n",
      "With Lambda=1e-07\n",
      "Accuracy on training set: 0.8185822222222222\n",
      "Accuracy on validation set: 0.8152\n",
      "With Lambda=1e-06\n",
      "Accuracy on training set: 0.8174666666666667\n",
      "Accuracy on validation set: 0.81412\n",
      "With Lambda=1e-05\n",
      "Accuracy on training set: 0.81668\n",
      "Accuracy on validation set: 0.81272\n",
      "With Lambda=0.0001\n",
      "Accuracy on training set: 0.8157244444444445\n",
      "Accuracy on validation set: 0.81172\n",
      "With Lambda=0.001\n",
      "Accuracy on training set: 0.8139333333333333\n",
      "Accuracy on validation set: 0.8102\n"
     ]
    }
   ],
   "source": [
    "# accuracy check with the previous data processing\n",
    "for l in [10**i for i in range(-10,-2)]:\n",
    "    w, mse = ridge_regression(y_train, tX_train_poly_std, lambda_=l)\n",
    "    y_pred = predict_labels(w, tX_train_poly_std)\n",
    "    print(\"With Lambda=\"+str(l))\n",
    "    print(\"Accuracy on training set: \"+str(np.mean(y_train==y_pred)))\n",
    "    y_pred = predict_labels(w, tX_val_poly_std)\n",
    "    print(\"Accuracy on validation set: \"+str(np.mean(y_val==y_pred)))"
   ]
  },
  {
   "cell_type": "markdown",
   "metadata": {},
   "source": [
    "So some good lambda values are $10^{-10}$ to $10^{-3}$, for our specifically processed dataset"
   ]
  },
  {
   "cell_type": "markdown",
   "metadata": {},
   "source": [
    "#### Logistic regression standardizing and polynomial augmentation"
   ]
  },
  {
   "cell_type": "code",
   "execution_count": 19,
   "metadata": {},
   "outputs": [
    {
     "name": "stdout",
     "output_type": "stream",
     "text": [
      "(225000, 391) (25000, 391)\n"
     ]
    }
   ],
   "source": [
    "#Feature augmentation\n",
    "tX_train_aug_poly, tX_val_aug_poly = dp.poly_features(tX_train_new,13), dp.poly_features(tX_val_new,13)\n",
    "\n",
    "#Standardizing once more\n",
    "tX_train_aug_poly, stats2 = dp.standardize(tX_train_aug_poly)\n",
    "tX_val_aug_poly, _ = dp.standardize(tX_val_aug_poly, norm_stats=stats2)\n",
    "\n",
    "#Completing the polynomial\n",
    "tX_train_poly_std, tX_val_poly_std = dp.add_ones(tX_train_aug_poly), dp.add_ones(tX_val_aug_poly)\n",
    "\n",
    "print(tX_train_poly_std.shape, tX_val_poly_std.shape)"
   ]
  },
  {
   "cell_type": "markdown",
   "metadata": {},
   "source": [
    "#### Regulaized Logistic Regression with polynomials, standardizing the data"
   ]
  },
  {
   "cell_type": "code",
   "execution_count": 20,
   "metadata": {},
   "outputs": [
    {
     "name": "stdout",
     "output_type": "stream",
     "text": [
      "Accuracy on training set: 0.6880044444444444\n",
      "Accuracy on validation set: 0.68572\n"
     ]
    }
   ],
   "source": [
    "#Initialization\n",
    "initial_w = np.zeros((tX_train_poly_std.shape[1],1))\n",
    "max_iters = 30\n",
    "gamma = 1e-5\n",
    "lambda_ = 1e-8\n",
    "\n",
    "#mapping back to 0 and 1\n",
    "y_train_lr = 0.5*(y_train+1)\n",
    "\n",
    "#Training\n",
    "w, mse = reg_logistic_regression(y_train_lr, tX_train_poly_std, lambda_, initial_w, max_iters, gamma, batch_size=128)\n",
    "\n",
    "#Training set\n",
    "y_pred1 = predict_labels(w, tX_train_poly_std)\n",
    "print(\"Accuracy on training set: \"+str(np.mean(y_train.reshape(-1,1)==y_pred1)))\n",
    "\n",
    "#Validation set\n",
    "y_pred = predict_labels(w, tX_val_poly_std)\n",
    "print(\"Accuracy on validation set: \"+str(np.mean(y_val.reshape(-1,1)==y_pred)))\n",
    "\n",
    "#Uncomment to save the current weight stored in w\n",
    "#w_good = w.copy()\n",
    "#with open('weights.pkl','wb') as f:\n",
    "#    pickle.dump(w_good, f)"
   ]
  },
  {
   "cell_type": "markdown",
   "metadata": {},
   "source": [
    "#### From now on, these are extra explanative parts:"
   ]
  },
  {
   "cell_type": "markdown",
   "metadata": {},
   "source": [
    "##### Example of how we plotted the graph of loss/accuracy shown in our pdf."
   ]
  },
  {
   "cell_type": "code",
   "execution_count": 21,
   "metadata": {},
   "outputs": [
    {
     "data": {
      "image/png": "[encoded data removed]",
      "text/plain": [
       "<Figure size 432x288 with 1 Axes>"
      ]
     },
     "metadata": {
      "needs_background": "light"
     },
     "output_type": "display_data"
    },
    {
     "data": {
      "image/png": "[encoded data removed]",
      "text/plain": [
       "<Figure size 432x288 with 1 Axes>"
      ]
     },
     "metadata": {
      "needs_background": "light"
     },
     "output_type": "display_data"
    }
   ],
   "source": [
    "#Initialization\n",
    "initial_w = np.zeros((tX_train_poly_std.shape[1],1))\n",
    "max_iters = 30\n",
    "gamma = 1e-5\n",
    "lambda_ = 1e-8\n",
    "\n",
    "#mapping back to 0 and 1\n",
    "y_train_lr = 0.5*(y_train+1)\n",
    "\n",
    "#Training\n",
    "ws, losses = graph_reg_logistic_regression(y_train_lr, tX_train_poly_std, lambda_, initial_w, max_iters, gamma, batch_size=128)\n",
    "\n",
    "#Plotting \n",
    "plot_logistic(losses,ws,tX_val_poly_std,y_val)"
   ]
  },
  {
   "cell_type": "markdown",
   "metadata": {},
   "source": [
    "##### Example of how we plotted the graph for ridge regression: accuracy as a function of lambda"
   ]
  },
  {
   "cell_type": "code",
   "execution_count": 23,
   "metadata": {},
   "outputs": [
    {
     "data": {
      "image/png": "[encoded data removed]",
      "text/plain": [
       "<Figure size 432x288 with 1 Axes>"
      ]
     },
     "metadata": {
      "needs_background": "light"
     },
     "output_type": "display_data"
    }
   ],
   "source": [
    "lambdas = []\n",
    "accuracies = []\n",
    "\n",
    "iterat = np.linspace(10**(-8),1,50)\n",
    "for l in iterat:\n",
    "    w, mse = ridge_regression(y_train, tX_train_poly_std, lambda_=l)\n",
    "    y_pred = predict_labels(w, tX_val_poly_std)\n",
    "    accuracies.append(np.mean(y_val==y_pred))\n",
    "    lambdas.append(l)\n",
    "    \n",
    "plot_ridge(lambdas,accuracies)"
   ]
  },
  {
   "cell_type": "markdown",
   "metadata": {},
   "source": [
    "##### Interaction Terms\n",
    "We are now testing out interaction terms, which is feature augmentation through multiplication among the feature vectors."
   ]
  },
  {
   "cell_type": "code",
   "execution_count": 37,
   "metadata": {},
   "outputs": [
    {
     "name": "stdout",
     "output_type": "stream",
     "text": [
      "(435,)\n"
     ]
    }
   ],
   "source": [
    "# Creating the interaction terms through sort out with highest variance criteria\n",
    "tX_train_int, int_list = dp.interaction_terms(tX_train)\n",
    "tX_train_cap, int_list=dp.var_cap(tX_train_int, int_list)\n",
    "\n",
    "# Adding the feature columns\n",
    "tX_train_int=dp.generate_interactions(tX_train,int_list[:50])\n",
    "tX_val_int=dp.generate_interactions(tX_val,int_list[:50])"
   ]
  },
  {
   "cell_type": "markdown",
   "metadata": {},
   "source": [
    "##### Testing out the interaction terms on ridge_regression"
   ]
  },
  {
   "cell_type": "code",
   "execution_count": 38,
   "metadata": {},
   "outputs": [
    {
     "name": "stdout",
     "output_type": "stream",
     "text": [
      "0.0001: MSE_TRAIN=0.3983831533813957 TRAIN=0.6952844444444445 VAL=0.6948\n",
      "0.001: MSE_TRAIN=0.3983831533813956 TRAIN=0.6952844444444445 VAL=0.6948\n",
      "0.01: MSE_TRAIN=0.3983831533813975 TRAIN=0.6952844444444445 VAL=0.6948\n",
      "0.1: MSE_TRAIN=0.39838315338157176 TRAIN=0.6952844444444445 VAL=0.6948\n",
      "1: MSE_TRAIN=0.3983831533989902 TRAIN=0.69528 VAL=0.6948\n",
      "10: MSE_TRAIN=0.3983831551394612 TRAIN=0.6952888888888888 VAL=0.69484\n",
      "100: MSE_TRAIN=0.39838332782345787 TRAIN=0.6952088888888889 VAL=0.69484\n",
      "1000: MSE_TRAIN=0.3983993405089474 TRAIN=0.6948755555555556 VAL=0.69368\n",
      "10000: MSE_TRAIN=0.3993070250812079 TRAIN=0.6925555555555556 VAL=0.69232\n"
     ]
    }
   ],
   "source": [
    "#Trying out different lambda for ridge\n",
    "for l in [10**i for i in range(-4,5)]:\n",
    "    w, mse = ridge_regression(y_train, tX_train_int, l)\n",
    "    y_pred_train = predict_labels(w, tX_train_int)\n",
    "    y_pred_val = predict_labels(w, tX_val_int)\n",
    "    print(str(l)+\": MSE_TRAIN=\"+str(mse)+ \" TRAIN=\"+str(np.mean(y_train==y_pred_train))+\" VAL=\"+str(np.mean(y_val==y_pred_val)))"
   ]
  },
  {
   "cell_type": "markdown",
   "metadata": {},
   "source": [
    "## Generate predictions and save ouput in csv format for submission:"
   ]
  },
  {
   "cell_type": "code",
   "execution_count": 26,
   "metadata": {},
   "outputs": [],
   "source": [
    "DATA_TEST_PATH = '../data/test.csv'\n",
    "_, tX_test, ids_test = load_csv_data(DATA_TEST_PATH)"
   ]
  },
  {
   "cell_type": "code",
   "execution_count": 29,
   "metadata": {},
   "outputs": [],
   "source": [
    "# Processing the test data so that it matches the input training set\n",
    "tX_test, _ = dp.fill_nan(tX_test, nan_value=-999, method='use_filler', filler=filler) #filler from train fill_nan\n",
    "tX_test_new, _ = dp.standardize(tX_test, norm_stats=norm_stats) #norm_stats from train standardize\n",
    "\n",
    "#feature augmentating\n",
    "tX_test_aug_poly = dp.poly_features(tX_test_new,13)\n",
    "tX_test_poly_std = dp.add_ones(tX_test_aug_poly)\n",
    "y_pred = predict_labels(w, tX_test_poly_std)"
   ]
  },
  {
   "cell_type": "code",
   "execution_count": 30,
   "metadata": {},
   "outputs": [],
   "source": [
    "OUTPUT_PATH = 'out.csv' \n",
    "#y_pred = predict_labels(weights, tX_test)\n",
    "create_csv_submission(ids_test, y_pred, OUTPUT_PATH)"
   ]
  }
 ],
 "metadata": {
  "anaconda-cloud": {},
  "kernelspec": {
   "display_name": "Python 3",
   "language": "python",
   "name": "python3"
  },
  "language_info": {
   "codemirror_mode": {
    "name": "ipython",
    "version": 3
   },
   "file_extension": ".py",
   "mimetype": "text/x-python",
   "name": "python",
   "nbconvert_exporter": "python",
   "pygments_lexer": "ipython3",
   "version": "3.7.3"
  }
 },
 "nbformat": 4,
 "nbformat_minor": 1
}
